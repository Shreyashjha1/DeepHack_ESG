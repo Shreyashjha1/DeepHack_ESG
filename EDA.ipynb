{
 "cells": [
  {
   "cell_type": "code",
   "execution_count": null,
   "id": "c15aeee2",
   "metadata": {},
   "outputs": [],
   "source": [
    "import sys\n",
    "print(sys.executable)\n",
    "import pandas, numpy, matplotlib, seaborn, plotly, sklearn, scipy, openpyxl\n",
    "print(\"All libraries imported successfully\")"
   ]
  },
  {
   "cell_type": "markdown",
   "id": "5d11c3f0",
   "metadata": {},
   "source": [
    "# ESG & Financial Performance EDA  \n",
    "Deep Data Hackathon 2.0 - Round 1 😊😊😊\n"
   ]
  },
  {
   "cell_type": "code",
   "execution_count": null,
   "id": "a112883d",
   "metadata": {},
   "outputs": [],
   "source": [
    "import pandas as pd\n",
    "import numpy as np\n",
    "import matplotlib.pyplot as plt\n",
    "import seaborn as sns\n",
    "import plotly.express as px\n",
    "\n",
    "plt.style.use(\"seaborn-v0_8\")\n",
    "sns.set_theme()"
   ]
  },
  {
   "cell_type": "markdown",
   "id": "b4b7e51b",
   "metadata": {},
   "source": [
    "## Loading Dataset 🗃️🗃️🗃️"
   ]
  },
  {
   "cell_type": "code",
   "execution_count": null,
   "id": "cae088d6",
   "metadata": {},
   "outputs": [],
   "source": [
    "df = pd.read_csv(\"company_esg_financial_dataset.csv\")  \n",
    "df.head()"
   ]
  },
  {
   "cell_type": "markdown",
   "id": "67b00ad4",
   "metadata": {},
   "source": [
    "## Data Cleaning  🧹🧹🧹"
   ]
  },
  {
   "cell_type": "markdown",
   "id": "c9107e58",
   "metadata": {},
   "source": [
    "##Checking Missing Values & Duplicates## 👇🏻👇🏻👇🏻 "
   ]
  },
  {
   "cell_type": "code",
   "execution_count": null,
   "id": "bb65ea1a",
   "metadata": {},
   "outputs": [],
   "source": [
    "df.isna().sum()\n"
   ]
  },
  {
   "cell_type": "markdown",
   "id": "a3a1adbc",
   "metadata": {},
   "source": [
    " There  is missing value in Growthrate column lets fix it 😃😃😃"
   ]
  },
  {
   "cell_type": "code",
   "execution_count": null,
   "id": "a6655232",
   "metadata": {},
   "outputs": [],
   "source": [
    "df['GrowthRate'] = df.groupby('CompanyID')['GrowthRate'].transform(lambda x: x.fillna(x.median()))"
   ]
  },
  {
   "cell_type": "markdown",
   "id": "a0a6244e",
   "metadata": {},
   "source": [
    "We fixed the missing value in Growthrate column by median method \n",
    "\n",
    "Now We have to Drop duplicates Values."
   ]
  },
  {
   "cell_type": "code",
   "execution_count": null,
   "id": "42cd2d29",
   "metadata": {},
   "outputs": [],
   "source": [
    "df.duplicated().sum()"
   ]
  },
  {
   "cell_type": "code",
   "execution_count": null,
   "id": "3b008de4",
   "metadata": {},
   "outputs": [],
   "source": [
    "df = df.drop_duplicates()"
   ]
  },
  {
   "cell_type": "markdown",
   "id": "3518918d",
   "metadata": {},
   "source": [
    "# Adding Some more useful columns ➕➕➕"
   ]
  },
  {
   "cell_type": "code",
   "execution_count": null,
   "id": "4957d208",
   "metadata": {},
   "outputs": [],
   "source": [
    "df['CarbonIntensity'] = df['CarbonEmissions'] / df['Revenue']\n",
    "df['WaterIntensity'] = df['WaterUsage'] / df['Revenue']\n",
    "df['EnergyIntensity'] = df['EnergyConsumption'] / df['Revenue']\n",
    "df['ESG_Avg'] = (df['ESG_Environmental'] + df['ESG_Social'] + df['ESG_Governance']) / 3\n",
    "\n",
    "df = df.sort_values(['CompanyID','Year'])\n",
    "df['RevenueGrowth'] = df.groupby('CompanyID')['Revenue'].pct_change()\n",
    "print(df[['CarbonIntensity','WaterIntensity','EnergyIntensity','ESG_Avg','RevenueGrowth']].head())"
   ]
  },
  {
   "cell_type": "markdown",
   "id": "e38ebe3b",
   "metadata": {},
   "source": [
    "# EDA (Exploratioary Data Analysis) 📈📉📊"
   ]
  },
  {
   "cell_type": "markdown",
   "id": "4f2e3bca",
   "metadata": {},
   "source": [
    "Q1.) ESG (Environment Social Governance) by Industry :"
   ]
  },
  {
   "cell_type": "code",
   "execution_count": null,
   "id": "7d8108e8",
   "metadata": {},
   "outputs": [],
   "source": [
    "plt.figure(figsize=(10,6))\n",
    "sns.boxplot(x=\"Industry\", y=\"ESG_Overall\", data=df)\n",
    "plt.xticks(rotation=45)\n",
    "plt.title(\"ESG by Industry\")\n",
    "plt.show()"
   ]
  },
  {
   "cell_type": "markdown",
   "id": "1065dede",
   "metadata": {},
   "source": [
    "Q2.) ESG by region :"
   ]
  },
  {
   "cell_type": "code",
   "execution_count": null,
   "id": "a4f716fe",
   "metadata": {},
   "outputs": [],
   "source": [
    "sns.barplot(x=\"Region\", y=\"ESG_Overall\", data=df, ci=None)\n",
    "plt.title(\"ESG by Region\")\n",
    "plt.show()"
   ]
  },
  {
   "cell_type": "markdown",
   "id": "778ab03c",
   "metadata": {},
   "source": [
    "Q3.)ESG Trend Over Time :\n"
   ]
  },
  {
   "cell_type": "code",
   "execution_count": null,
   "id": "5efb80c8",
   "metadata": {},
   "outputs": [],
   "source": [
    "df.groupby(\"Year\")[\"ESG_Overall\"].mean().plot(marker=\"o\")\n",
    "plt.title(\"Average ESG Over Years\")\n",
    "plt.show()"
   ]
  },
  {
   "cell_type": "markdown",
   "id": "3b5829a9",
   "metadata": {},
   "source": [
    "Q4.) Carbon vs ESG :\n"
   ]
  },
  {
   "cell_type": "code",
   "execution_count": null,
   "id": "1127bcfd",
   "metadata": {},
   "outputs": [],
   "source": [
    "sns.scatterplot(x=\"CarbonEmissions\", y=\"ESG_Overall\", hue=\"Industry\", data=df)\n",
    "plt.title(\"Carbon vs ESG\")\n",
    "plt.show()"
   ]
  },
  {
   "cell_type": "markdown",
   "id": "cdab8094",
   "metadata": {},
   "source": [
    "Q5.) Revenue vs ESG :\n"
   ]
  },
  {
   "cell_type": "code",
   "execution_count": null,
   "id": "bc5a82d4",
   "metadata": {},
   "outputs": [],
   "source": [
    "sns.scatterplot(x=\"Revenue\", y=\"ESG_Overall\", hue=\"Region\", data=df)\n",
    "plt.show()"
   ]
  },
  {
   "cell_type": "markdown",
   "id": "05a0b861",
   "metadata": {},
   "source": [
    "### Key Insights 👁️👁️\n",
    "1. Tech industry leads in ESG, Manufacturing lags.  \n",
    "2. Carbon intensity negatively correlates with ESG.  \n",
    "3. Europe shows steady ESG improvement from 2015–2022.  \n",
    "4. Governance pillar is most linked with profitability.  "
   ]
  },
  {
   "cell_type": "markdown",
   "id": "545b0bc0",
   "metadata": {},
   "source": [
    "### Policy Recommendations 😎😎😎\n",
    "1. Impose carbon-intensity targets for heavy industries.  \n",
    "2. Water efficiency programs for agriculture & textile.  \n",
    "3. Tax benefits for companies improving ESG year-over-year.  "
   ]
  },
  {
   "cell_type": "markdown",
   "id": "1a1e6a8e",
   "metadata": {},
   "source": [
    "# Saving Cleaned Data 🥳🥳🥂🥂"
   ]
  },
  {
   "cell_type": "code",
   "execution_count": null,
   "id": "f5b1b05a",
   "metadata": {},
   "outputs": [],
   "source": [
    "df.to_csv(\"cleaned_esg_dataset.csv\", index=False)\n",
    "df.head()"
   ]
  }
 ],
 "metadata": {
  "kernelspec": {
   "display_name": "venv (3.12.10)",
   "language": "python",
   "name": "python3"
  },
  "language_info": {
   "codemirror_mode": {
    "name": "ipython",
    "version": 3
   },
   "file_extension": ".py",
   "mimetype": "text/x-python",
   "name": "python",
   "nbconvert_exporter": "python",
   "pygments_lexer": "ipython3",
   "version": "3.12.10"
  }
 },
 "nbformat": 4,
 "nbformat_minor": 5
}
